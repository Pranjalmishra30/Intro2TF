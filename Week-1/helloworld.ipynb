{
  "cells": [
    {
      "cell_type": "code",
      "execution_count": 1,
      "metadata": {
        "id": "gobSnU5oCXAM"
      },
      "outputs": [],
      "source": [
        "import tensorflow as tf\n",
        "from tensorflow import keras\n",
        "import numpy as np"
      ]
    },
    {
      "cell_type": "code",
      "execution_count": null,
      "metadata": {
        "id": "TYtvKVUOCflC"
      },
      "outputs": [],
      "source": [
        "model = keras.Sequential([keras.layers.Dense(units=1,input_shape=[1])])\n",
        "model.compile(optimizer='sgd',loss='mean_squared_error')"
      ]
    },
    {
      "cell_type": "code",
      "execution_count": null,
      "metadata": {
        "colab": {
          "base_uri": "https://localhost:8080/"
        },
        "id": "0nevQiq0DJva",
        "outputId": "5c7b4dd6-f1c6-4484-c044-93dc10094a7d"
      },
      "outputs": [],
      "source": [
        "X = np.array([-1.0,0.0,1.0,2.0,3.0,4.0],dtype=float)\n",
        "Y = np.array([-3.0,-1.0,1.0,3.0,5.0,7.0],dtype=float)\n",
        "\n",
        "model.fit(X,Y,epochs=500,verbose=1)"
      ]
    },
    {
      "cell_type": "code",
      "execution_count": 10,
      "metadata": {
        "colab": {
          "base_uri": "https://localhost:8080/"
        },
        "id": "mqJ6PF18FBVB",
        "outputId": "283703c1-0046-4d48-c24d-c47aeeaab064"
      },
      "outputs": [
        {
          "data": {
            "text/plain": [
              "array([[18.981375]], dtype=float32)"
            ]
          },
          "execution_count": 10,
          "metadata": {},
          "output_type": "execute_result"
        }
      ],
      "source": [
        "model.predict([10])\n",
        "# expected val is 19 (as Y = 2X - 1)"
      ]
    }
  ],
  "metadata": {
    "colab": {
      "collapsed_sections": [],
      "name": "helloworld.ipynb",
      "provenance": []
    },
    "kernelspec": {
      "display_name": "Python 3",
      "name": "python3"
    },
    "language_info": {
      "codemirror_mode": {
        "name": "ipython",
        "version": 3
      },
      "file_extension": ".py",
      "mimetype": "text/x-python",
      "name": "python",
      "nbconvert_exporter": "python",
      "pygments_lexer": "ipython3",
      "version": "3.9.7"
    }
  },
  "nbformat": 4,
  "nbformat_minor": 0
}
